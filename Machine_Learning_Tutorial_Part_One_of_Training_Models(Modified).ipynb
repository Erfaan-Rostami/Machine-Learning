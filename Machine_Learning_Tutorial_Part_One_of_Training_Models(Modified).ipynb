{
  "nbformat": 4,
  "nbformat_minor": 0,
  "metadata": {
    "colab": {
      "name": "Machine_Learning_Tutorial_Part_One-of_Training_Models(Modified).ipynb",
      "provenance": [],
      "collapsed_sections": [],
      "authorship_tag": "ABX9TyM2M1TAVPL5AC3jda7LJmYV",
      "include_colab_link": true
    },
    "kernelspec": {
      "name": "python3",
      "display_name": "Python 3"
    }
  },
  "cells": [
    {
      "cell_type": "markdown",
      "metadata": {
        "id": "view-in-github",
        "colab_type": "text"
      },
      "source": [
        "<a href=\"https://colab.research.google.com/github/Erfaan-Rostami/Machine-Learning/blob/master/Machine_Learning_Tutorial_Part_One_of_Training_Models(Modified).ipynb\" target=\"_parent\"><img src=\"https://colab.research.google.com/assets/colab-badge.svg\" alt=\"Open In Colab\"/></a>"
      ]
    },
    {
      "cell_type": "markdown",
      "metadata": {
        "id": "mHNoezx7rbf-",
        "colab_type": "text"
      },
      "source": [
        "**Machine Learning Tutorial** , Ordibehesht 2, 18:00 via LMS [Class Room](http://vc26.sbu.ac.ir/class-2216137-91), AML Course Recitation, **Session Eight**\n",
        "\n",
        "[Applied Machine Learning](https://github.com/hhaji/Applied-Machine-Learning), Data Science Center, Shahid Beheshti University\n",
        "\n",
        "Modified by [Erfaan Rostami Amraei](https://github.com/Erfaan-Rostami)"
      ]
    },
    {
      "cell_type": "markdown",
      "metadata": {
        "id": "spzv7iNtrl9b",
        "colab_type": "text"
      },
      "source": [
        "\n",
        "\n",
        "**Acknowledgment:**\n",
        "\n",
        "\n",
        "\n",
        "The code is modified based on:\n",
        "* [Hands-on Machine Learning with Scikit-Learn, Keras, and TensorFlow (2nd Edition)](https://www.oreilly.com/library/view/hands-on-machine-learning/9781492032632/) by Aurelien Geron   \n",
        "\n",
        "   - **Chapter 4 – Training Models** \n",
        "\n"
      ]
    },
    {
      "cell_type": "markdown",
      "metadata": {
        "id": "eDD5e0hKb3mt",
        "colab_type": "text"
      },
      "source": [
        "<table align=\"left\">\n",
        "  <td>\n",
        "    <a target=\"_blank\" href=\"https://colab.research.google.com/drive/1S1RguKRlxG3jE7z1lelIX0Uk3pImr05m#scrollTo=spzv7iNtrl9b\"><img src=\"https://www.tensorflow.org/images/colab_logo_32px.png\" />Run in Google Colab</a>\n",
        "  </td>\n",
        "</table>"
      ]
    },
    {
      "cell_type": "markdown",
      "metadata": {
        "id": "2KLm82cYh--y",
        "colab_type": "text"
      },
      "source": [
        "##Chapter 4 – Training Models##\n",
        "In this chapter, we will start by looking at the **Linear Regression model**, one of the\n",
        "simplest models there is. We will discuss two very different ways to train it:\n",
        "- Using a direct “**closed-form**” equation that directly computes the model parame‐\n",
        "ters that best fit the model to the training set.\n",
        "- Using an iterative optimization approach, called **Gradient Descent** (GD). We will look at a few variants of Gradient Descent that we will use again\n",
        "and again when we study neural networks in Part II: Batch GD, Mini-batch GD,\n",
        "and Stochastic GD."
      ]
    },
    {
      "cell_type": "code",
      "metadata": {
        "id": "WydSMey-iz1q",
        "colab_type": "code",
        "colab": {}
      },
      "source": [
        ""
      ],
      "execution_count": 0,
      "outputs": []
    }
  ]
}